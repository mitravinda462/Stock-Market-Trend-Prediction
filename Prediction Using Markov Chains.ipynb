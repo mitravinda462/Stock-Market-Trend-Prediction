{
 "cells": [
  {
   "cell_type": "code",
   "execution_count": 1,
   "metadata": {},
   "outputs": [],
   "source": [
    "import numpy as np\n",
    "import random as rm"
   ]
  },
  {
   "cell_type": "code",
   "execution_count": 2,
   "metadata": {},
   "outputs": [],
   "source": [
    "# The statespace\n",
    "states = [\"Higher Highs\",\"Higher Lows\",\"Lower Highs\",\"Lower Lows\"]\n",
    "\n",
    "# Possible sequences of events\n",
    "transitionName = [[\"HHHH\",\"HHHL\",\"HHLH\",\"HHLL\"],[\"HLHH\",\"HLHL\",\"HLLH\",\"HLLL\"],[\"LHHH\",\"LHHL\",\"LHLH\",\"LHLL\"],[\"LLHH\",\"LLHL\",\"LLLH\",\"LLLL\"]]\n",
    "\n",
    "# Probabilities matrix (transition matrix)\n",
    "#transitionMatrix = [[0.4,0.6,0.0,0.0],[0.4286,0.2857,0.0,0.2857],[0.0,1.0,0.0,0.0],[0.5,0.5,0.0,0.0]]\n",
    "transitionMatrix=[[0.941,0.059,0,0],[0.02,0.946,0.034,0],[0,0.2,0.6,0.2],[0,0,0.5,0.5]]"
   ]
  },
  {
   "cell_type": "code",
   "execution_count": 3,
   "metadata": {},
   "outputs": [],
   "source": [
    "if sum(transitionMatrix[0])+sum(transitionMatrix[1])+sum(transitionMatrix[2])+sum(transitionMatrix[3]) != 4:\n",
    "    print(\"Something went wrong\")\n"
   ]
  },
  {
   "cell_type": "code",
   "execution_count": 4,
   "metadata": {},
   "outputs": [
    {
     "name": "stdout",
     "output_type": "stream",
     "text": [
      "Start state: Lower Highs\n",
      "0.2\n",
      "Possible states: ['Lower Highs', 'Higher Lows']\n",
      "End state after 1 days: Higher Lows\n",
      "Probability of the possible sequence of states: 0.2\n"
     ]
    }
   ],
   "source": [
    "# A function that implements the Markov model to forecast the state/mood.\n",
    "def activity_forecast(days):\n",
    "    # Choose the starting state\n",
    "    activityToday = \"Lower Highs\"\n",
    "    print(\"Start state: \" + activityToday)\n",
    "    # Shall store the sequence of states taken. So, this only has the starting state for now.\n",
    "    activityList = [activityToday]\n",
    "    i = 0\n",
    "    # To calculate the probability of the activityList\n",
    "    prob = 1\n",
    "    while i != days:\n",
    "        if activityToday == \"Higher Highs\":\n",
    "            change = np.random.choice(transitionName[0],replace=True,p=transitionMatrix[0])\n",
    "            if change == \"HHHH\":\n",
    "                prob = prob * 0.941\n",
    "                activityList.append(\"Higher Highs\")\n",
    "                pass\n",
    "            elif change == \"HHHL\":\n",
    "                prob = prob * 0.059\n",
    "                activityToday = \"Higher Lows\"\n",
    "                activityList.append(\"Higher Lows\")\n",
    "            elif change== \"HHLH\":\n",
    "                prob = prob * 0.0\n",
    "                activityToday = \"Lower Highs\"\n",
    "                activityList.append(\"Lower Highs\")\n",
    "            else:\n",
    "                prob = prob * 0.0\n",
    "                activityToday = \"Lower Lows\"\n",
    "                activityList.append(\"Lower Lows\")\n",
    "        elif activityToday == \"Higher Lows\":\n",
    "            change = np.random.choice(transitionName[1],replace=True,p=transitionMatrix[1])\n",
    "            if change == \"HLHH\":\n",
    "                prob = prob * 0.02\n",
    "                activityToday = \"Higher Highs\"\n",
    "                activityList.append(\"Higher Highs\")\n",
    "                pass\n",
    "            elif change == \"HLHL\":\n",
    "                prob = prob * 0.946\n",
    "                activityList.append(\"Higher Lows\")\n",
    "            elif change== \"HLLH\":\n",
    "                prob = prob * 0.034\n",
    "                activityToday = \"Lower Highs\"\n",
    "                activityList.append(\"Lower Highs\")\n",
    "            else:\n",
    "                prob = prob * 0.0\n",
    "                activityToday = \"Lower Lows\"\n",
    "                activityList.append(\"Lower Lows\")\n",
    "        elif activityToday == \"Lower Highs\":\n",
    "            change = np.random.choice(transitionName[2],replace=True,p=transitionMatrix[2])\n",
    "            if change == \"LHHH\":\n",
    "                prob = prob * 0.0\n",
    "                activityToday = \"Higher Highs\"\n",
    "                activityList.append(\"Higher Highs\")\n",
    "                pass\n",
    "            elif change == \"LHHL\":\n",
    "                prob = prob * 0.2\n",
    "                activityToday = \"Higher Lows\"\n",
    "                activityList.append(\"Higher Lows\")\n",
    "            elif change== \"LHLH\":\n",
    "                prob = prob * 0.6\n",
    "                activityList.append(\"Lower Highs\")\n",
    "            else:\n",
    "                prob = prob * 0.2\n",
    "                activityToday = \"Lower Lows\"\n",
    "                activityList.append(\"Lower Lows\")\n",
    "        elif activityToday == \"Lower Lows\":\n",
    "            change = np.random.choice(transitionName[2],replace=True,p=transitionMatrix[2])\n",
    "            if change == \"LLHH\":\n",
    "                prob = prob * 0.0\n",
    "                activityToday = \"Higher Highs\"\n",
    "                activityList.append(\"Higher Highs\")\n",
    "                pass\n",
    "            elif change == \"LLHL\":\n",
    "                prob = prob * 0.0\n",
    "                activityToday = \"Higher Lows\"\n",
    "                activityList.append(\"Higher Lows\")\n",
    "            elif change== \"LLLH\":\n",
    "                prob = prob * 0.5\n",
    "                activityToday = \"Lower Highs\"\n",
    "                activityList.append(\"Lower Highs\")\n",
    "            else:\n",
    "                prob = prob * 0.5\n",
    "                activityList.append(\"Lower Lows\")\n",
    "        print(prob)\n",
    "        i += 1  \n",
    "    print(\"Possible states: \" + str(activityList))\n",
    "    print(\"End state after \"+ str(days) + \" days: \" + activityToday)\n",
    "    print(\"Probability of the possible sequence of states: \" + str(prob))\n",
    "\n",
    "# Function that forecasts the possible state for the next 1 day\n",
    "activity_forecast(1)"
   ]
  },
  {
   "cell_type": "code",
   "execution_count": 5,
   "metadata": {},
   "outputs": [
    {
     "name": "stdout",
     "output_type": "stream",
     "text": [
      "Start state: Lower Highs\n",
      "0.6\n",
      "0.12\n",
      "Possible states: ['Lower Highs', 'Lower Highs', 'Higher Lows']\n",
      "End state after 2 days: Higher Lows\n",
      "Probability of the possible sequence of states: 0.12\n"
     ]
    }
   ],
   "source": [
    "activity_forecast(2)"
   ]
  },
  {
   "cell_type": "code",
   "execution_count": 6,
   "metadata": {},
   "outputs": [
    {
     "name": "stdout",
     "output_type": "stream",
     "text": [
      "Day 1\n",
      "x( 1 ) [0.  0.2 0.6 0.2]\n",
      "Probability of starting at state 'Lower Highs' and ending at state 'Higher High' for day 1  = 0 %\n",
      "Probability of starting at state 'Lower Highs' and ending at state 'Higher Low' for day 1  = 20 %\n",
      "Probability of starting at state 'Lower Highs' and ending at state 'Lower High' for day 1  = 60 %\n",
      "Probability of starting at state 'Lower Highs' and ending at state 'Lower Low' for day 1  = 20 %\n",
      "\n",
      "\n",
      "Day 2\n",
      "x( 2 ) [0.004  0.3092 0.4668 0.22  ]\n",
      "Probability of starting at state 'Lower Highs' and ending at state 'Higher High' for day 2  = 0 %\n",
      "Probability of starting at state 'Lower Highs' and ending at state 'Higher Low' for day 2  = 30 %\n",
      "Probability of starting at state 'Lower Highs' and ending at state 'Lower High' for day 2  = 46 %\n",
      "Probability of starting at state 'Lower Highs' and ending at state 'Lower Low' for day 2  = 22 %\n",
      "\n",
      "\n",
      "Day 3\n",
      "x( 3 ) [0.009948  0.3860992 0.4005928 0.20336  ]\n",
      "Probability of starting at state 'Lower Highs' and ending at state 'Higher High' for day 3  = 0 %\n",
      "Probability of starting at state 'Lower Highs' and ending at state 'Higher Low' for day 3  = 38 %\n",
      "Probability of starting at state 'Lower Highs' and ending at state 'Lower High' for day 3  = 40 %\n",
      "Probability of starting at state 'Lower Highs' and ending at state 'Lower Low' for day 3  = 20 %\n",
      "\n",
      "\n"
     ]
    }
   ],
   "source": [
    "hh_val,hl_val,lh_val,ll_val = [],[],[],[]\n",
    "# initial state\n",
    "init_state = np.array([0, 0, 1,0])\n",
    "# transition matrix\n",
    "i=1\n",
    "a = np.array([[0.941,0.059,0,0],[0.02,0.946,0.034,0],[0,0.2,0.6,0.2],[0,0,0.5,0.5]])\n",
    "for x in range(1,4):\n",
    "    hh_val.append(init_state[0])\n",
    "    hl_val.append(init_state[1])\n",
    "    lh_val.append(init_state[2])\n",
    "    ll_val.append(init_state[3])\n",
    "    b = init_state\n",
    "    init_state = b.dot(a)\n",
    "    print(\"Day\",i)\n",
    "    print(\"x(\",i,\")\",init_state)\n",
    "    print(\"Probability of starting at state 'Lower Highs' and ending at state 'Higher High' for day\",i,\" =\",int(init_state[0]*100),\"%\")\n",
    "    print(\"Probability of starting at state 'Lower Highs' and ending at state 'Higher Low' for day\",i,\" =\",int(init_state[1]*100),\"%\")\n",
    "    print(\"Probability of starting at state 'Lower Highs' and ending at state 'Lower High' for day\",i,\" =\",int(init_state[2]*100),\"%\")\n",
    "    print(\"Probability of starting at state 'Lower Highs' and ending at state 'Lower Low' for day\",i,\" =\",int(init_state[3]*100),\"%\")\n",
    "    print(\"\\n\")\n",
    "    i=i+1\n",
    "    "
   ]
  },
  {
   "cell_type": "code",
   "execution_count": 7,
   "metadata": {},
   "outputs": [
    {
     "name": "stdout",
     "output_type": "stream",
     "text": [
      "x( 0 ) [0 0 1 0]\n",
      "x( 1 ) [0.  0.2 0.6 0.2]\n",
      "x( 2 ) [0.004  0.3092 0.4668 0.22  ]\n",
      "x( 3 ) [0.009948  0.3860992 0.4005928 0.20336  ]\n",
      "x( 4 ) [0.01708305 0.44595534 0.35516305 0.18179856]\n",
      "x( 5 ) [0.02499426 0.49391426 0.31915959 0.16193189]\n",
      "x( 6 ) [0.03339788 0.53254947 0.28925479 0.14479786]\n",
      "x( 7 ) [0.0420784  0.56361323 0.26405849 0.13024989]\n",
      "x( 8 ) [0.05086804 0.58847244 0.24272289 0.11793664]\n",
      "x( 9 ) [0.05963627 0.60824072 0.22461012 0.1075129 ]\n",
      "x( 10 ) [0.06828254 0.62383628 0.2092027  0.09867847]\n",
      "x( 11 ) [0.0767306  0.63601833 0.19607129 0.09117978]\n",
      "x( 12 ) [0.08492386 0.64541471 0.18485729 0.08480415]\n",
      "x( 13 ) [0.09282165 0.65254428 0.17526054 0.07937353]\n",
      "x( 14 ) [0.10039606 0.65783547 0.1670296  0.07473887]\n",
      "x( 15 ) [0.1076294  0.66164164 0.1599536  0.07077536]\n",
      "x( 16 ) [0.1145121  0.66425385 0.15385566 0.0673784 ]\n",
      "x( 17 ) [0.12104096 0.66591149 0.14858722 0.06446033]\n",
      "x( 18 ) [0.12721777 0.66681113 0.14402349 0.06194761]\n",
      "x( 19 ) [0.13304815 0.66711387 0.14005948 0.0597785 ]\n",
      "x( 20 ) [0.13854058 0.66695146 0.13660681 0.05790115]\n",
      "x( 21 ) [0.14370572 0.66643134 0.13359101 0.05627194]\n",
      "x( 22 ) [0.14855571 0.66564088 0.13094924 0.05485417]\n",
      "x( 23 ) [0.15310374 0.66465091 0.12862842 0.05361693]\n",
      "x( 24 ) [0.15736364 0.66351857 0.12658365 0.05253415]\n",
      "x( 25 ) [0.16134955 0.66228975 0.12477689 0.0515838 ]\n",
      "x( 26 ) [0.16507572 0.6610011  0.12317589 0.05074728]\n",
      "x( 27 ) [0.16855628 0.65968169 0.12175321 0.05000882]\n",
      "x( 28 ) [0.17180509 0.65835434 0.12048551 0.04935505]\n",
      "x( 29 ) [0.17483568 0.65703681 0.11935288 0.04877463]\n",
      "x( 30 ) [0.17766111 0.6557427  0.1183383  0.04825789]\n",
      "x( 31 ) [0.18029396 0.65448226 0.11742717 0.0477966 ]\n",
      "x( 32 ) [0.18274626 0.653263   0.116607   0.04738374]\n",
      "x( 33 ) [0.18502949 0.65209023 0.11586701 0.04701327]\n",
      "x( 34 ) [0.18715456 0.6509675  0.11519791 0.04668004]\n",
      "x( 35 ) [0.18913179 0.64989695 0.11459166 0.0463796 ]\n",
      "x( 36 ) [0.19097095 0.64887963 0.11404129 0.04610813]\n",
      "x( 37 ) [0.19268126 0.64791567 0.11354075 0.04586232]\n",
      "x( 38 ) [0.19427138 0.64700457 0.11308474 0.04563931]\n",
      "x( 39 ) [0.19574946 0.64614528 0.11266866 0.0454366 ]\n"
     ]
    },
    {
     "data": {
      "text/plain": [
       "Text(0, 0.5, 'Probablity')"
      ]
     },
     "execution_count": 7,
     "metadata": {},
     "output_type": "execute_result"
    },
    {
     "data": {
      "image/png": "[encoded data removed]",
      "text/plain": [
       "<Figure size 792x576 with 1 Axes>"
      ]
     },
     "metadata": {
      "needs_background": "light"
     },
     "output_type": "display_data"
    }
   ],
   "source": [
    "import matplotlib.pyplot as plt\n",
    "hh_val,hl_val,lh_val,ll_val = [],[],[],[]\n",
    "# initial state\n",
    "init_state = np.array([0, 0, 1,0])\n",
    "# transition matrix\n",
    "i=0\n",
    "a = np.array([[0.941,0.059,0,0],[0.02,0.946,0.034,0],[0,0.2,0.6,0.2],[0,0,0.5,0.5]])\n",
    "for x in range(40):\n",
    "    print(\"x(\",i,\")\",init_state)\n",
    "    hh_val.append(init_state[0])\n",
    "    hl_val.append(init_state[1])\n",
    "    lh_val.append(init_state[2])\n",
    "    ll_val.append(init_state[3])\n",
    "    b = init_state\n",
    "    init_state = b.dot(a)\n",
    "    i=i+1\n",
    "    \n",
    "# plotting\n",
    "#print(hh_val);\n",
    "plt.figure(figsize=(11,8))\n",
    "plt.plot( [x for x in range(40)], hh_val, marker='o', markerfacecolor='blue', markersize=12, color='skyblue', linewidth=4,label='Higher Highs')\n",
    "plt.plot( [x for x in range(40)], hl_val, marker='o', markerfacecolor='red', markersize=12, color='pink', linewidth=4,label='Higher Lows')\n",
    "plt.plot( [x for x in range(40)], lh_val, marker='o', markerfacecolor='orange', markersize=12, color='yellow', linewidth=4,label='Lower Highs')\n",
    "plt.plot( [x for x in range(40)], ll_val, marker='o', markerfacecolor='green', markersize=12, color='yellowgreen', linewidth=4,label='Lower lows')\n",
    "plt.legend(loc='best')\n",
    "plt.xlabel('Days')\n",
    "plt.ylabel('Probablity')"
   ]
  },
  {
   "cell_type": "code",
   "execution_count": null,
   "metadata": {},
   "outputs": [],
   "source": []
  },
  {
   "cell_type": "code",
   "execution_count": null,
   "metadata": {},
   "outputs": [],
   "source": []
  }
 ],
 "metadata": {
  "kernelspec": {
   "display_name": "Python 3",
   "language": "python",
   "name": "python3"
  },
  "language_info": {
   "codemirror_mode": {
    "name": "ipython",
    "version": 3
   },
   "file_extension": ".py",
   "mimetype": "text/x-python",
   "name": "python",
   "nbconvert_exporter": "python",
   "pygments_lexer": "ipython3",
   "version": "3.7.6"
  }
 },
 "nbformat": 4,
 "nbformat_minor": 4
}
