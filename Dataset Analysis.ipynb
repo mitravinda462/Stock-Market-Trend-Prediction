{
 "cells": [
  {
   "cell_type": "code",
   "execution_count": 1,
   "metadata": {},
   "outputs": [],
   "source": [
    "import pandas as pd\n",
    "import numpy as np"
   ]
  },
  {
   "cell_type": "code",
   "execution_count": 2,
   "metadata": {},
   "outputs": [],
   "source": [
    "gspc_df = pd.read_csv('Downloads/^GSPC.csv')"
   ]
  },
  {
   "cell_type": "code",
   "execution_count": 3,
   "metadata": {},
   "outputs": [
    {
     "data": {
      "text/html": [
       "<div>\n",
       "<style scoped>\n",
       "    .dataframe tbody tr th:only-of-type {\n",
       "        vertical-align: middle;\n",
       "    }\n",
       "\n",
       "    .dataframe tbody tr th {\n",
       "        vertical-align: top;\n",
       "    }\n",
       "\n",
       "    .dataframe thead th {\n",
       "        text-align: right;\n",
       "    }\n",
       "</style>\n",
       "<table border=\"1\" class=\"dataframe\">\n",
       "  <thead>\n",
       "    <tr style=\"text-align: right;\">\n",
       "      <th></th>\n",
       "      <th>Date</th>\n",
       "      <th>Open</th>\n",
       "      <th>High</th>\n",
       "      <th>Low</th>\n",
       "      <th>Close</th>\n",
       "      <th>Adj Close</th>\n",
       "      <th>Volume</th>\n",
       "    </tr>\n",
       "  </thead>\n",
       "  <tbody>\n",
       "    <tr>\n",
       "      <th>0</th>\n",
       "      <td>2019-05-16</td>\n",
       "      <td>2855.800049</td>\n",
       "      <td>2892.149902</td>\n",
       "      <td>2855.800049</td>\n",
       "      <td>2876.320068</td>\n",
       "      <td>2876.320068</td>\n",
       "      <td>3338060000</td>\n",
       "    </tr>\n",
       "    <tr>\n",
       "      <th>1</th>\n",
       "      <td>2019-05-17</td>\n",
       "      <td>2858.600098</td>\n",
       "      <td>2885.479980</td>\n",
       "      <td>2854.229980</td>\n",
       "      <td>2859.530029</td>\n",
       "      <td>2859.530029</td>\n",
       "      <td>3257950000</td>\n",
       "    </tr>\n",
       "    <tr>\n",
       "      <th>2</th>\n",
       "      <td>2019-05-20</td>\n",
       "      <td>2841.939941</td>\n",
       "      <td>2853.860107</td>\n",
       "      <td>2831.290039</td>\n",
       "      <td>2840.229980</td>\n",
       "      <td>2840.229980</td>\n",
       "      <td>3288870000</td>\n",
       "    </tr>\n",
       "    <tr>\n",
       "      <th>3</th>\n",
       "      <td>2019-05-21</td>\n",
       "      <td>2854.020020</td>\n",
       "      <td>2868.879883</td>\n",
       "      <td>2854.020020</td>\n",
       "      <td>2864.360107</td>\n",
       "      <td>2864.360107</td>\n",
       "      <td>3218700000</td>\n",
       "    </tr>\n",
       "    <tr>\n",
       "      <th>4</th>\n",
       "      <td>2019-05-22</td>\n",
       "      <td>2856.060059</td>\n",
       "      <td>2865.469971</td>\n",
       "      <td>2851.110107</td>\n",
       "      <td>2856.270020</td>\n",
       "      <td>2856.270020</td>\n",
       "      <td>3192510000</td>\n",
       "    </tr>\n",
       "    <tr>\n",
       "      <th>...</th>\n",
       "      <td>...</td>\n",
       "      <td>...</td>\n",
       "      <td>...</td>\n",
       "      <td>...</td>\n",
       "      <td>...</td>\n",
       "      <td>...</td>\n",
       "      <td>...</td>\n",
       "    </tr>\n",
       "    <tr>\n",
       "      <th>248</th>\n",
       "      <td>2020-05-11</td>\n",
       "      <td>2915.459961</td>\n",
       "      <td>2944.250000</td>\n",
       "      <td>2903.439941</td>\n",
       "      <td>2930.189941</td>\n",
       "      <td>2930.189941</td>\n",
       "      <td>4807320000</td>\n",
       "    </tr>\n",
       "    <tr>\n",
       "      <th>249</th>\n",
       "      <td>2020-05-12</td>\n",
       "      <td>2939.500000</td>\n",
       "      <td>2945.820068</td>\n",
       "      <td>2869.590088</td>\n",
       "      <td>2870.120117</td>\n",
       "      <td>2870.120117</td>\n",
       "      <td>5107710000</td>\n",
       "    </tr>\n",
       "    <tr>\n",
       "      <th>250</th>\n",
       "      <td>2020-05-13</td>\n",
       "      <td>2865.860107</td>\n",
       "      <td>2874.139893</td>\n",
       "      <td>2793.149902</td>\n",
       "      <td>2820.000000</td>\n",
       "      <td>2820.000000</td>\n",
       "      <td>6143130000</td>\n",
       "    </tr>\n",
       "    <tr>\n",
       "      <th>251</th>\n",
       "      <td>2020-05-14</td>\n",
       "      <td>2794.540039</td>\n",
       "      <td>2852.800049</td>\n",
       "      <td>2766.639893</td>\n",
       "      <td>2852.500000</td>\n",
       "      <td>2852.500000</td>\n",
       "      <td>5641920000</td>\n",
       "    </tr>\n",
       "    <tr>\n",
       "      <th>252</th>\n",
       "      <td>2020-05-15</td>\n",
       "      <td>2829.949951</td>\n",
       "      <td>2865.010010</td>\n",
       "      <td>2816.780029</td>\n",
       "      <td>2863.699951</td>\n",
       "      <td>2863.699951</td>\n",
       "      <td>5477040000</td>\n",
       "    </tr>\n",
       "  </tbody>\n",
       "</table>\n",
       "<p>253 rows × 7 columns</p>\n",
       "</div>"
      ],
      "text/plain": [
       "           Date         Open         High          Low        Close  \\\n",
       "0    2019-05-16  2855.800049  2892.149902  2855.800049  2876.320068   \n",
       "1    2019-05-17  2858.600098  2885.479980  2854.229980  2859.530029   \n",
       "2    2019-05-20  2841.939941  2853.860107  2831.290039  2840.229980   \n",
       "3    2019-05-21  2854.020020  2868.879883  2854.020020  2864.360107   \n",
       "4    2019-05-22  2856.060059  2865.469971  2851.110107  2856.270020   \n",
       "..          ...          ...          ...          ...          ...   \n",
       "248  2020-05-11  2915.459961  2944.250000  2903.439941  2930.189941   \n",
       "249  2020-05-12  2939.500000  2945.820068  2869.590088  2870.120117   \n",
       "250  2020-05-13  2865.860107  2874.139893  2793.149902  2820.000000   \n",
       "251  2020-05-14  2794.540039  2852.800049  2766.639893  2852.500000   \n",
       "252  2020-05-15  2829.949951  2865.010010  2816.780029  2863.699951   \n",
       "\n",
       "       Adj Close      Volume  \n",
       "0    2876.320068  3338060000  \n",
       "1    2859.530029  3257950000  \n",
       "2    2840.229980  3288870000  \n",
       "3    2864.360107  3218700000  \n",
       "4    2856.270020  3192510000  \n",
       "..           ...         ...  \n",
       "248  2930.189941  4807320000  \n",
       "249  2870.120117  5107710000  \n",
       "250  2820.000000  6143130000  \n",
       "251  2852.500000  5641920000  \n",
       "252  2863.699951  5477040000  \n",
       "\n",
       "[253 rows x 7 columns]"
      ]
     },
     "execution_count": 3,
     "metadata": {},
     "output_type": "execute_result"
    }
   ],
   "source": [
    "gspc_df\n"
   ]
  },
  {
   "cell_type": "code",
   "execution_count": 4,
   "metadata": {},
   "outputs": [],
   "source": [
    "df=gspc_df"
   ]
  },
  {
   "cell_type": "code",
   "execution_count": 5,
   "metadata": {},
   "outputs": [
    {
     "data": {
      "text/plain": [
       "Date         2020-05-15\n",
       "Open            3380.45\n",
       "High            3393.52\n",
       "Low             3378.83\n",
       "Close           3386.15\n",
       "Adj Close       3386.15\n",
       "Volume       9044690000\n",
       "dtype: object"
      ]
     },
     "execution_count": 5,
     "metadata": {},
     "output_type": "execute_result"
    }
   ],
   "source": [
    "df.max(axis=0)"
   ]
  },
  {
   "cell_type": "code",
   "execution_count": 6,
   "metadata": {},
   "outputs": [
    {
     "data": {
      "text/plain": [
       "Date         2019-05-16\n",
       "Open            2290.71\n",
       "High            2300.73\n",
       "Low             2191.86\n",
       "Close            2237.4\n",
       "Adj Close        2237.4\n",
       "Volume       1296540000\n",
       "dtype: object"
      ]
     },
     "execution_count": 6,
     "metadata": {},
     "output_type": "execute_result"
    }
   ],
   "source": [
    "df.min(axis=0)"
   ]
  },
  {
   "cell_type": "code",
   "execution_count": 7,
   "metadata": {},
   "outputs": [
    {
     "data": {
      "text/plain": [
       "1149"
      ]
     },
     "execution_count": 7,
     "metadata": {},
     "output_type": "execute_result"
    }
   ],
   "source": [
    "3386-2237"
   ]
  },
  {
   "cell_type": "code",
   "execution_count": 8,
   "metadata": {},
   "outputs": [
    {
     "data": {
      "text/plain": [
       "287.25"
      ]
     },
     "execution_count": 8,
     "metadata": {},
     "output_type": "execute_result"
    }
   ],
   "source": [
    "1149/4"
   ]
  },
  {
   "cell_type": "code",
   "execution_count": 9,
   "metadata": {},
   "outputs": [
    {
     "data": {
      "text/plain": [
       "3385"
      ]
     },
     "execution_count": 9,
     "metadata": {},
     "output_type": "execute_result"
    }
   ],
   "source": [
    "2237+(287*4)"
   ]
  },
  {
   "cell_type": "code",
   "execution_count": 10,
   "metadata": {},
   "outputs": [
    {
     "data": {
      "text/plain": [
       "2524"
      ]
     },
     "execution_count": 10,
     "metadata": {},
     "output_type": "execute_result"
    }
   ],
   "source": [
    "2237+287"
   ]
  },
  {
   "cell_type": "code",
   "execution_count": 11,
   "metadata": {},
   "outputs": [
    {
     "data": {
      "text/plain": [
       "2811"
      ]
     },
     "execution_count": 11,
     "metadata": {},
     "output_type": "execute_result"
    }
   ],
   "source": [
    "2237+287*2"
   ]
  },
  {
   "cell_type": "code",
   "execution_count": 12,
   "metadata": {},
   "outputs": [
    {
     "data": {
      "text/plain": [
       "3098"
      ]
     },
     "execution_count": 12,
     "metadata": {},
     "output_type": "execute_result"
    }
   ],
   "source": [
    "2237+(287*3)"
   ]
  },
  {
   "cell_type": "code",
   "execution_count": 13,
   "metadata": {},
   "outputs": [
    {
     "data": {
      "text/plain": [
       "2876.320068"
      ]
     },
     "execution_count": 13,
     "metadata": {},
     "output_type": "execute_result"
    }
   ],
   "source": [
    "df['Close'][0]"
   ]
  },
  {
   "cell_type": "code",
   "execution_count": 14,
   "metadata": {},
   "outputs": [
    {
     "name": "stdout",
     "output_type": "stream",
     "text": [
      "No of days for which stock close value falls in the LL category 10\n",
      "No of days for which stock close value falls in the LH category 25\n",
      "No of days for which stock close value falls in the HL category 149\n",
      "No of days for which stock close value falls in the HH category 68\n"
     ]
    }
   ],
   "source": [
    "#Frequency Distribution Table\n",
    "count=0\n",
    "s33=0\n",
    "s22=0\n",
    "s11=0\n",
    "for i in range(0,253):\n",
    "        if 2237<=df['Close'][i]<2525: #LL\n",
    "            count=count+1\n",
    "        elif  2525 <=df['Close'][i] < 2812: #LH\n",
    "            s33=s33+1\n",
    "        elif 2812 <=df['Close'][i] < 3099: #HL\n",
    "            s22=s22+1\n",
    "        elif 3099 <=df['Close'][i] < 3386: #HH\n",
    "            s11=s11+1\n",
    "print(\"No of days for which stock close value falls in the LL category\",count) \n",
    "print(\"No of days for which stock close value falls in the LH category\",s33)\n",
    "print(\"No of days for which stock close value falls in the HL category\",s22)\n",
    "print(\"No of days for which stock close value falls in the HH category\",s11)\n"
   ]
  },
  {
   "cell_type": "code",
   "execution_count": 21,
   "metadata": {},
   "outputs": [
    {
     "name": "stdout",
     "output_type": "stream",
     "text": [
      "LL : 0\n",
      "LH : 0\n",
      "HL : 4\n",
      "HH : 64\n"
     ]
    }
   ],
   "source": [
    "count=0\n",
    "s33=0\n",
    "s22=1\n",
    "s11=0\n",
    "for i in range(0,252):\n",
    "    if 3099<=df['Close'][i]<3386 :\n",
    "        if 2237<=df['Close'][i+1]<2525:\n",
    "            count=count+1\n",
    "        elif  2525 <=df['Close'][i+1] < 2812:\n",
    "            s33=s33+1\n",
    "        elif 2812 <=df['Close'][i+1] < 3099:\n",
    "            s22=s22+1\n",
    "        elif 3099 <=df['Close'][i+1] < 3386:\n",
    "            s11=s11+1\n",
    "    \n",
    "print(\"LL :\",count) \n",
    "print(\"LH :\",s33)\n",
    "print(\"HL :\",s22)\n",
    "print(\"HH :\",s11)\n"
   ]
  },
  {
   "cell_type": "code",
   "execution_count": 22,
   "metadata": {},
   "outputs": [
    {
     "name": "stdout",
     "output_type": "stream",
     "text": [
      "LL : 0\n",
      "LH : 5\n",
      "HL : 141\n",
      "HH : 3\n"
     ]
    }
   ],
   "source": [
    "count=0\n",
    "s33=0\n",
    "s22=1\n",
    "s11=0\n",
    "for i in range(0,252):\n",
    "    if 2812<=df['Close'][i]<3099 :\n",
    "        if 2237<=df['Close'][i+1]<2525:\n",
    "            count=count+1\n",
    "        elif  2525 <=df['Close'][i+1] < 2812:\n",
    "            s33=s33+1\n",
    "        elif 2812 <=df['Close'][i+1] < 3099:\n",
    "            s22=s22+1\n",
    "        elif 3099 <=df['Close'][i+1] < 3387:\n",
    "            s11=s11+1\n",
    "    \n",
    "print(\"LL :\",count) \n",
    "print(\"LH :\",s33)\n",
    "print(\"HL :\",s22)\n",
    "print(\"HH :\",s11)"
   ]
  },
  {
   "cell_type": "code",
   "execution_count": 17,
   "metadata": {},
   "outputs": [
    {
     "name": "stdout",
     "output_type": "stream",
     "text": [
      "LL : 5\n",
      "LH : 15\n",
      "HL : 5\n",
      "HH : 0\n"
     ]
    }
   ],
   "source": [
    "count=0\n",
    "s33=0\n",
    "s22=0\n",
    "s11=0\n",
    "for i in range(0,252):\n",
    "    if 2525<=df['Close'][i]<2812 :\n",
    "        if 2237<=df['Close'][i+1]<2525:\n",
    "            count=count+1\n",
    "        elif  2525 <=df['Close'][i+1] < 2812:\n",
    "            s33=s33+1\n",
    "        elif 2812 <=df['Close'][i+1] < 3099:\n",
    "            s22=s22+1\n",
    "        elif 3099 <=df['Close'][i+1] < 3386:\n",
    "            s11=s11+1\n",
    "    \n",
    "print(\"LL :\",count) \n",
    "print(\"LH :\",s33)\n",
    "print(\"HL :\",s22)\n",
    "print(\"HH :\",s11)"
   ]
  },
  {
   "cell_type": "code",
   "execution_count": 18,
   "metadata": {},
   "outputs": [
    {
     "name": "stdout",
     "output_type": "stream",
     "text": [
      "LL : 5\n",
      "LH : 5\n",
      "HL : 0\n",
      "HH : 0\n"
     ]
    }
   ],
   "source": [
    "count=0\n",
    "s33=0\n",
    "s22=0\n",
    "s11=0\n",
    "for i in range(0,252):\n",
    "    if 2237<=df['Close'][i]<2525 :\n",
    "        if 2237<=df['Close'][i+1]<2525:\n",
    "            count=count+1\n",
    "        elif  2525 <=df['Close'][i+1] < 2812:\n",
    "            s33=s33+1\n",
    "        elif 2812 <=df['Close'][i+1] < 3099:\n",
    "            s22=s22+1\n",
    "        elif 3099 <=df['Close'][i+1] < 3386:\n",
    "            s11=s11+1\n",
    "    \n",
    "print(\"LL :\",count) \n",
    "print(\"LH :\",s33)\n",
    "print(\"HL :\",s22)\n",
    "print(\"HH :\",s11)"
   ]
  },
  {
   "cell_type": "code",
   "execution_count": null,
   "metadata": {},
   "outputs": [],
   "source": []
  }
 ],
 "metadata": {
  "kernelspec": {
   "display_name": "Python 3",
   "language": "python",
   "name": "python3"
  },
  "language_info": {
   "codemirror_mode": {
    "name": "ipython",
    "version": 3
   },
   "file_extension": ".py",
   "mimetype": "text/x-python",
   "name": "python",
   "nbconvert_exporter": "python",
   "pygments_lexer": "ipython3",
   "version": "3.7.6"
  }
 },
 "nbformat": 4,
 "nbformat_minor": 4
}
